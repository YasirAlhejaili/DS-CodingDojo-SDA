{
 "cells": [
  {
   "cell_type": "code",
   "execution_count": 123,
   "metadata": {},
   "outputs": [],
   "source": [
    "# Weekend project for Yasir Alhejaili\n",
    "# Solution to the birthday problem using Monte Carlo\n",
    "\n",
    "from random import randint\n",
    "\n",
    "pepole = 30\n",
    "possible_bd = 365 \n",
    "trials = 10000"
   ]
  },
  {
   "cell_type": "code",
   "execution_count": 124,
   "metadata": {},
   "outputs": [],
   "source": [
    "# Function to generate a random birthday\n",
    "\n",
    "def generate_random_bd():\n",
    "    birthday = randint(1, possible_bd)\n",
    "    return birthday"
   ]
  },
  {
   "cell_type": "code",
   "execution_count": 125,
   "metadata": {},
   "outputs": [],
   "source": [
    "# Function to generate a roandom list of birthdays using generate_random_bd() function\n",
    "\n",
    "def generate_k_bd(k):\n",
    "    birthdays = [generate_random_bd() for i in range(k)]\n",
    "    return birthdays"
   ]
  },
  {
   "cell_type": "code",
   "execution_count": 126,
   "metadata": {},
   "outputs": [],
   "source": [
    "#  has_coincidence will be True only if there are less unique birthdays than birthdays\n",
    "\n",
    "def aloc(birthdays):\n",
    "    unique_bd = set(birthdays)\n",
    " \n",
    "    num_bds = len(birthdays)\n",
    "    num_unique_bds = len(unique_bd)\n",
    "    has_coincidence = (num_bds != num_unique_bds)\n",
    " \n",
    "    return has_coincidence"
   ]
  },
  {
   "cell_type": "code",
   "execution_count": 127,
   "metadata": {},
   "outputs": [],
   "source": [
    "# Function that starts the simulation and returns the probability of at least two pepole have the same birthday \n",
    "\n",
    "def result():\n",
    "    num_aloc = 0\n",
    "    for i in range(trials):\n",
    "        birthdays = generate_k_bd(pepole)\n",
    "        has_coincidence = aloc(birthdays)\n",
    "        if has_coincidence:\n",
    "            num_aloc = num_aloc + 1\n",
    " \n",
    "    p_aloc = num_aloc / trials\n",
    "    return p_aloc"
   ]
  },
  {
   "cell_type": "code",
   "execution_count": 128,
   "metadata": {},
   "outputs": [
    {
     "name": "stdout",
     "output_type": "stream",
     "text": [
      "If the number of pepole in a room is 30 then\n",
      "the probability of at least two same birthday after 10000 trials is: 70.57%\n"
     ]
    }
   ],
   "source": [
    "p_aloc = estimate_p_aloc()\n",
    "print(f\"If the number of pepole in a room is {pepole} then\")\n",
    "print(f\"the probability of at least two same birthday after {trials} trials is: {p_aloc*100}%\")"
   ]
  },
  {
   "cell_type": "code",
   "execution_count": 129,
   "metadata": {},
   "outputs": [
    {
     "name": "stdout",
     "output_type": "stream",
     "text": [
      "If the number of pepole in a room is 50 then\n",
      "the probability of at least two same birthday after 10000 trials is: 97.04%\n"
     ]
    }
   ],
   "source": [
    "# The previous probability was greater that 50%\n",
    "# We can change the number of pepole to see how to affect the probability of at least two same birthday\n",
    "# We will make the trials the same \n",
    "\n",
    "pepole = 50\n",
    "possible_bd = 365 \n",
    "trials = 10000\n",
    "\n",
    "def generate_random_bd():\n",
    "    birthday = randint(1, possible_bd)\n",
    "    return birthday\n",
    "\n",
    "def generate_k_bd(k):\n",
    "    birthdays = [generate_random_bd() for i in range(k)]\n",
    "    return birthdays\n",
    "\n",
    "def aloc(birthdays):\n",
    "    unique_bd = set(birthdays)\n",
    " \n",
    "    num_bds = len(birthdays)\n",
    "    num_unique_bds = len(unique_bd)\n",
    "    has_coincidence = (num_bds != num_unique_bds)\n",
    " \n",
    "    return has_coincidence\n",
    "\n",
    "def result():\n",
    "    num_aloc = 0\n",
    "    for i in range(trials):\n",
    "        birthdays = generate_k_bd(pepole)\n",
    "        has_coincidence = aloc(birthdays)\n",
    "        if has_coincidence:\n",
    "            num_aloc = num_aloc + 1\n",
    " \n",
    "    p_aloc = num_aloc / trials\n",
    "    return p_aloc\n",
    "\n",
    "p_aloc = estimate_p_aloc()\n",
    "print(f\"If the number of pepole in a room is {pepole} then\")\n",
    "print(f\"the probability of at least two same birthday after {trials} trials is: {p_aloc*100}%\")"
   ]
  },
  {
   "cell_type": "code",
   "execution_count": 130,
   "metadata": {},
   "outputs": [
    {
     "name": "stdout",
     "output_type": "stream",
     "text": [
      "If the number of pepole in a room is 70 then\n",
      "the probability of at least two same birthday after 10000 trials is: 99.96000000000001%\n"
     ]
    }
   ],
   "source": [
    "# As we increse the number of people the probability incres \n",
    "# For 50 pepole in a room the probability is greater than 95% \n",
    "# Lets try for 70 people\n",
    "\n",
    "pepole = 70\n",
    "possible_bd = 365 \n",
    "trials = 10000\n",
    "\n",
    "def generate_random_bd():\n",
    "    birthday = randint(1, possible_bd)\n",
    "    return birthday\n",
    "\n",
    "def generate_k_bd(k):\n",
    "    birthdays = [generate_random_bd() for i in range(k)]\n",
    "    return birthdays\n",
    "\n",
    "def aloc(birthdays):\n",
    "    unique_bd = set(birthdays)\n",
    " \n",
    "    num_bds = len(birthdays)\n",
    "    num_unique_bds = len(unique_bd)\n",
    "    has_coincidence = (num_bds != num_unique_bds)\n",
    " \n",
    "    return has_coincidence\n",
    "\n",
    "def result():\n",
    "    num_aloc = 0\n",
    "    for i in range(trials):\n",
    "        birthdays = generate_k_bd(pepole)\n",
    "        has_coincidence = aloc(birthdays)\n",
    "        if has_coincidence:\n",
    "            num_aloc = num_aloc + 1\n",
    " \n",
    "    p_aloc = num_aloc / trials\n",
    "    return p_aloc\n",
    "\n",
    "p_aloc = estimate_p_aloc()\n",
    "print(f\"If the number of pepole in a room is {pepole} then\")\n",
    "print(f\"the probability of at least two same birthday after {trials} trials is: {p_aloc*100}%\")"
   ]
  },
  {
   "cell_type": "code",
   "execution_count": 131,
   "metadata": {},
   "outputs": [],
   "source": [
    "# For 70 pepole in a room the probability is greater than 99%  "
   ]
  }
 ],
 "metadata": {
  "kernelspec": {
   "display_name": "Python 3",
   "language": "python",
   "name": "python3"
  },
  "language_info": {
   "codemirror_mode": {
    "name": "ipython",
    "version": 3
   },
   "file_extension": ".py",
   "mimetype": "text/x-python",
   "name": "python",
   "nbconvert_exporter": "python",
   "pygments_lexer": "ipython3",
   "version": "3.8.3"
  }
 },
 "nbformat": 4,
 "nbformat_minor": 4
}
