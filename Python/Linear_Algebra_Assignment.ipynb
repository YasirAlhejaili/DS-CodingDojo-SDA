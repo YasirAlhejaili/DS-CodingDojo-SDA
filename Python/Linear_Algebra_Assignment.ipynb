{
 "cells": [
  {
   "cell_type": "code",
   "execution_count": 1,
   "metadata": {},
   "outputs": [],
   "source": [
    "import numpy as np"
   ]
  },
  {
   "cell_type": "code",
   "execution_count": 17,
   "metadata": {},
   "outputs": [],
   "source": [
    "# 3x + 5y = 6 \n",
    "# 7x - 5y = 9\n",
    "\n",
    "# Ak = b\n",
    "\n",
    "A = np.array([[3 , 5] , [7 , -5]])\n",
    "\n",
    "B = np.array([6 , 9])"
   ]
  },
  {
   "cell_type": "code",
   "execution_count": 28,
   "metadata": {},
   "outputs": [
    {
     "name": "stdout",
     "output_type": "stream",
     "text": [
      "A = [[ 3  5]\n",
      " [ 7 -5]]\n",
      "\n",
      "And\n",
      "\n",
      "B = [6 9]\n"
     ]
    }
   ],
   "source": [
    "print(\"A =\",A)\n",
    "print(\"\")\n",
    "print(\"And\")\n",
    "print(\"\")\n",
    "print(\"B =\" , B)"
   ]
  },
  {
   "cell_type": "code",
   "execution_count": 30,
   "metadata": {},
   "outputs": [
    {
     "name": "stdout",
     "output_type": "stream",
     "text": [
      "[1.5 0.3]\n"
     ]
    }
   ],
   "source": [
    "# We can solve it with linalg.inv() linalg.dot() and also linalg.solve() method for this one we will use linalg.inv() linalg.dot()\n",
    "X = np.linalg.inv(A).dot(B)\n",
    "\n",
    "print(X)"
   ]
  },
  {
   "cell_type": "code",
   "execution_count": 40,
   "metadata": {},
   "outputs": [
    {
     "name": "stdout",
     "output_type": "stream",
     "text": [
      "x =  1.5\n",
      "y =  0.30000000000000004\n"
     ]
    }
   ],
   "source": [
    "print(\"x = \" , X[0])\n",
    "print(\"y = \" , X[1])"
   ]
  },
  {
   "cell_type": "code",
   "execution_count": 41,
   "metadata": {},
   "outputs": [],
   "source": [
    "#   x + y + z = 6\n",
    "#       y + z = -4\n",
    "# 2x + 5y - z = 27\n",
    "\n",
    "C = np.array([[1 , 1 , 1] , [0 , 1 , 1] , [2 , 5 , -1]])\n",
    "\n",
    "D = np.array([6 , -4 , 27])"
   ]
  },
  {
   "cell_type": "code",
   "execution_count": 42,
   "metadata": {},
   "outputs": [
    {
     "name": "stdout",
     "output_type": "stream",
     "text": [
      "C = [[ 1  1  1]\n",
      " [ 0  1  1]\n",
      " [ 2  5 -1]]\n",
      "\n",
      "And\n",
      "\n",
      "D = [ 6 -4 27]\n"
     ]
    }
   ],
   "source": [
    "print(\"C =\",C)\n",
    "print(\"\")\n",
    "print(\"And\")\n",
    "print(\"\")\n",
    "print(\"D =\" , D)"
   ]
  },
  {
   "cell_type": "code",
   "execution_count": 48,
   "metadata": {},
   "outputs": [
    {
     "name": "stdout",
     "output_type": "stream",
     "text": [
      "[10.   0.5 -4.5]\n"
     ]
    }
   ],
   "source": [
    "# For this one linalg.solve() method\n",
    "Y = np.linalg.solve(C , D)\n",
    "\n",
    "print(Y)"
   ]
  },
  {
   "cell_type": "code",
   "execution_count": 44,
   "metadata": {},
   "outputs": [
    {
     "name": "stdout",
     "output_type": "stream",
     "text": [
      "x =  10.000000000000002\n",
      "y =  0.5\n",
      "z =  -4.5\n"
     ]
    }
   ],
   "source": [
    "print(\"x = \" , Y[0])\n",
    "print(\"y = \" , Y[1])\n",
    "print(\"z = \" , Y[2])"
   ]
  },
  {
   "cell_type": "code",
   "execution_count": 45,
   "metadata": {},
   "outputs": [],
   "source": [
    "# x + y = 4\n",
    "# 2x + 2y = 8\n",
    "\n",
    "E = np.array([[1 , 1] , [2 , 2]])\n",
    "\n",
    "F = np.array([4 , 8])"
   ]
  },
  {
   "cell_type": "code",
   "execution_count": 46,
   "metadata": {},
   "outputs": [
    {
     "name": "stdout",
     "output_type": "stream",
     "text": [
      "E = [[1 1]\n",
      " [2 2]]\n",
      "\n",
      "And\n",
      "\n",
      "F = [4 8]\n"
     ]
    }
   ],
   "source": [
    "print(\"E =\",E)\n",
    "print(\"\")\n",
    "print(\"And\")\n",
    "print(\"\")\n",
    "print(\"F =\" , F)"
   ]
  },
  {
   "cell_type": "code",
   "execution_count": 56,
   "metadata": {},
   "outputs": [],
   "source": [
    "# Error\n",
    "Z = np.linalg.solve(E , F)"
   ]
  },
  {
   "cell_type": "code",
   "execution_count": 60,
   "metadata": {},
   "outputs": [],
   "source": [
    "# The Error because \"singular matrix\" \n",
    "# singular matrix : matrix is one that is not invertible \n",
    "# In the above cell Matrix E is singular matrix"
   ]
  }
 ],
 "metadata": {
  "kernelspec": {
   "display_name": "Python 3",
   "language": "python",
   "name": "python3"
  },
  "language_info": {
   "codemirror_mode": {
    "name": "ipython",
    "version": 3
   },
   "file_extension": ".py",
   "mimetype": "text/x-python",
   "name": "python",
   "nbconvert_exporter": "python",
   "pygments_lexer": "ipython3",
   "version": "3.8.3"
  }
 },
 "nbformat": 4,
 "nbformat_minor": 4
}
