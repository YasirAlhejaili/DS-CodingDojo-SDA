{
 "cells": [
  {
   "cell_type": "code",
   "execution_count": 10,
   "metadata": {},
   "outputs": [
    {
     "name": "stdout",
     "output_type": "stream",
     "text": [
      "1 2 3 4 5 6 7 8 9 10 11 12 13 14 15 16 17 18 19 20 21 22 23 24 25 26 27 28 29 30 31 32 33 34 35 36 37 38 39 40 41 42 43 44 45 46 47 48 49 50 51 52 53 54 55 56 57 58 59 60 61 62 63 64 65 66 67 68 69 70 71 72 73 74 75 76 77 78 79 80 81 82 83 84 85 86 87 88 89 90 91 92 93 94 95 96 97 98 99 100 "
     ]
    }
   ],
   "source": [
    "# print the numbers between 1 and 100\n",
    "\n",
    "for i in range(100):\n",
    "    x = (i+1)\n",
    "    print(x, end=\" \")"
   ]
  },
  {
   "cell_type": "code",
   "execution_count": 11,
   "metadata": {},
   "outputs": [
    {
     "name": "stdout",
     "output_type": "stream",
     "text": [
      "8 16 24 32 40 48 56 64 72 80 88 96 "
     ]
    }
   ],
   "source": [
    "# print the numbers between 1 and 100 divisible by 8\n",
    "\n",
    "for i in range(100):\n",
    "    if((i+1)%8 == 0):\n",
    "        print(i+1 , end=\" \")\n",
    "    else:\n",
    "        next"
   ]
  },
  {
   "cell_type": "code",
   "execution_count": 12,
   "metadata": {},
   "outputs": [
    {
     "name": "stdout",
     "output_type": "stream",
     "text": [
      "5 10 15 20 25 30 35 40 45 50 55 60 65 70 75 80 85 90 95 100 "
     ]
    }
   ],
   "source": [
    "# Use a while loop to find the first 20 numbers divisible by 5\n",
    "\n",
    "start = 1\n",
    "count = 0\n",
    "while count<20:\n",
    "    if (start%5==0):\n",
    "        print(start , end =\" \")\n",
    "        count = count + 1\n",
    "    start = start + 1"
   ]
  },
  {
   "cell_type": "code",
   "execution_count": 15,
   "metadata": {},
   "outputs": [
    {
     "name": "stdout",
     "output_type": "stream",
     "text": [
      "7\n",
      "10\n"
     ]
    }
   ],
   "source": [
    "# example function that adds two numbers\n",
    "\n",
    "def simple_adding_function(a,b):\n",
    "    return a + b\n",
    "\n",
    "print(simple_adding_function(3,4))\n",
    "print(simple_adding_function(6,4))"
   ]
  },
  {
   "cell_type": "code",
   "execution_count": 21,
   "metadata": {},
   "outputs": [
    {
     "name": "stdout",
     "output_type": "stream",
     "text": [
      "(13, ' is a prime number')\n",
      "(14, ' is not Prime')\n",
      "(4, ' is not Prime')\n",
      "(2, ' is a prime number')\n"
     ]
    }
   ],
   "source": [
    "# function that evaluates if a number is prime (you can not use a list of known primes). \n",
    "# Only allow values between 0 and 100\n",
    "\n",
    "def prime(a):\n",
    "    for i in range(2,a):\n",
    "        if((a % (i) == 0) & (a != (i))):\n",
    "            return(a,\" is not Prime\")\n",
    "    return(a,\" is a prime number\")\n",
    "\n",
    "print(prime(13))\n",
    "\n",
    "print(prime(14))\n",
    "\n",
    "print(prime(4))\n",
    "\n",
    "print(prime(2))"
   ]
  }
 ],
 "metadata": {
  "kernelspec": {
   "display_name": "Python 3",
   "language": "python",
   "name": "python3"
  },
  "language_info": {
   "codemirror_mode": {
    "name": "ipython",
    "version": 3
   },
   "file_extension": ".py",
   "mimetype": "text/x-python",
   "name": "python",
   "nbconvert_exporter": "python",
   "pygments_lexer": "ipython3",
   "version": "3.8.3"
  }
 },
 "nbformat": 4,
 "nbformat_minor": 4
}
