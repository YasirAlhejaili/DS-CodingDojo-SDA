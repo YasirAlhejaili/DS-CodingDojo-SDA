{
 "cells": [
  {
   "cell_type": "code",
   "execution_count": 57,
   "metadata": {},
   "outputs": [],
   "source": [
    "import pandas as pd\n",
    "import matplotlib.pyplot as plt \n",
    "import seaborn as sns\n",
    "import numpy as np\n",
    "from sklearn import ensemble\n",
    "from sklearn import metrics\n",
    "\n",
    "df = pd.read_csv(\"https://raw.githubusercontent.com/daniel-dc-cd/data_science/master/module_4_ML/data/seattle_weather_1948-2017.csv\")\n",
    "\n",
    "numrows = 25549\n",
    "\n",
    "RF_df = pd.DataFrame({'four_days_ago' : [0.0]*numrows,\n",
    "                      'three_days_ago' : [0.0]*numrows,\n",
    "                      'two_days_ago' : [0.0]*numrows,\n",
    "                      'yesterday' : [0.0]*numrows,\n",
    "                      'today' : [0.0]*numrows,\n",
    "                                \"tomorrow\" : [True]*numrows})\n",
    "\n",
    "seq = [\"four_days_ago\",\n",
    "       \"three_days_ago\",\n",
    "       \"two_days_ago\",\n",
    "       \"yesterday\",\n",
    "       \"today\",\n",
    "      \"tomorrow\"]\n",
    "\n",
    "RF_df = RF_df.reindex(columns=seq)\n",
    "\n",
    "for i in range(0 , numrows):\n",
    "    tomorrow = df.iloc[i,1]\n",
    "    today = df.iloc[(i-1),1]\n",
    "    yesterday = df.iloc[(i-2),1]\n",
    "    two_days_ago = df.iloc[(i-3),1]\n",
    "    three_days_ago = df.iloc[(i-4),1]\n",
    "    four_days_ago = df.iloc[(i-5),1]\n",
    "    RF_df.iat[i,5] = tomorrow\n",
    "    RF_df.iat[i,4] = today\n",
    "    RF_df.iat[i,3] = yesterday\n",
    "    RF_df.iat[i,2] = two_days_ago\n",
    "    RF_df.iat[i,1] = three_days_ago\n",
    "    RF_df.iat[i,0] = four_days_ago\n",
    "    \n",
    "RF_df = RF_df.dropna()"
   ]
  },
  {
   "cell_type": "code",
   "execution_count": 58,
   "metadata": {},
   "outputs": [
    {
     "data": {
      "text/html": [
       "<div>\n",
       "<style scoped>\n",
       "    .dataframe tbody tr th:only-of-type {\n",
       "        vertical-align: middle;\n",
       "    }\n",
       "\n",
       "    .dataframe tbody tr th {\n",
       "        vertical-align: top;\n",
       "    }\n",
       "\n",
       "    .dataframe thead th {\n",
       "        text-align: right;\n",
       "    }\n",
       "</style>\n",
       "<table border=\"1\" class=\"dataframe\">\n",
       "  <thead>\n",
       "    <tr style=\"text-align: right;\">\n",
       "      <th></th>\n",
       "      <th>four_days_ago</th>\n",
       "      <th>three_days_ago</th>\n",
       "      <th>two_days_ago</th>\n",
       "      <th>yesterday</th>\n",
       "      <th>today</th>\n",
       "      <th>tomorrow</th>\n",
       "    </tr>\n",
       "  </thead>\n",
       "  <tbody>\n",
       "    <tr>\n",
       "      <th>0</th>\n",
       "      <td>0.0</td>\n",
       "      <td>0.00</td>\n",
       "      <td>0.00</td>\n",
       "      <td>0.00</td>\n",
       "      <td>0.00</td>\n",
       "      <td>True</td>\n",
       "    </tr>\n",
       "    <tr>\n",
       "      <th>1</th>\n",
       "      <td>0.0</td>\n",
       "      <td>0.00</td>\n",
       "      <td>0.00</td>\n",
       "      <td>0.00</td>\n",
       "      <td>0.47</td>\n",
       "      <td>True</td>\n",
       "    </tr>\n",
       "    <tr>\n",
       "      <th>2</th>\n",
       "      <td>0.0</td>\n",
       "      <td>0.00</td>\n",
       "      <td>0.00</td>\n",
       "      <td>0.47</td>\n",
       "      <td>0.59</td>\n",
       "      <td>True</td>\n",
       "    </tr>\n",
       "    <tr>\n",
       "      <th>3</th>\n",
       "      <td>0.0</td>\n",
       "      <td>0.00</td>\n",
       "      <td>0.47</td>\n",
       "      <td>0.59</td>\n",
       "      <td>0.42</td>\n",
       "      <td>True</td>\n",
       "    </tr>\n",
       "    <tr>\n",
       "      <th>4</th>\n",
       "      <td>0.0</td>\n",
       "      <td>0.47</td>\n",
       "      <td>0.59</td>\n",
       "      <td>0.42</td>\n",
       "      <td>0.31</td>\n",
       "      <td>True</td>\n",
       "    </tr>\n",
       "  </tbody>\n",
       "</table>\n",
       "</div>"
      ],
      "text/plain": [
       "   four_days_ago  three_days_ago  two_days_ago  yesterday  today  tomorrow\n",
       "0            0.0            0.00          0.00       0.00   0.00      True\n",
       "1            0.0            0.00          0.00       0.00   0.47      True\n",
       "2            0.0            0.00          0.00       0.47   0.59      True\n",
       "3            0.0            0.00          0.47       0.59   0.42      True\n",
       "4            0.0            0.47          0.59       0.42   0.31      True"
      ]
     },
     "execution_count": 58,
     "metadata": {},
     "output_type": "execute_result"
    }
   ],
   "source": [
    "RF_df.head()"
   ]
  },
  {
   "cell_type": "code",
   "execution_count": 69,
   "metadata": {},
   "outputs": [],
   "source": [
    "x = RF_df.today.values + RF_df.yesterday.values + RF_df.two_days_ago.values + RF_df.three_days_ago.values + RF_df.four_days_ago.values\n",
    "y = RF_df.tomorrow.values\n",
    "x = x.reshape(RF_df.shape[0],1)"
   ]
  },
  {
   "cell_type": "code",
   "execution_count": 70,
   "metadata": {},
   "outputs": [],
   "source": [
    "clf = ensemble.RandomForestClassifier(n_estimators=10).fit(x, y)"
   ]
  },
  {
   "cell_type": "code",
   "execution_count": 71,
   "metadata": {},
   "outputs": [
    {
     "name": "stdout",
     "output_type": "stream",
     "text": [
      "0.6601143394157726\n"
     ]
    }
   ],
   "source": [
    "score = clf.score(x,y)\n",
    "print(score)"
   ]
  },
  {
   "cell_type": "code",
   "execution_count": 72,
   "metadata": {},
   "outputs": [
    {
     "name": "stdout",
     "output_type": "stream",
     "text": [
      "[[11224  3413]\n",
      " [ 5267  5634]]\n"
     ]
    }
   ],
   "source": [
    "predictions = clf.predict(x)\n",
    "cm = metrics.confusion_matrix(y,predictions)\n",
    "print(cm)"
   ]
  },
  {
   "cell_type": "code",
   "execution_count": 73,
   "metadata": {},
   "outputs": [
    {
     "data": {
      "image/png": "[encoded data removed]",
      "text/plain": [
       "<Figure size 648x648 with 2 Axes>"
      ]
     },
     "metadata": {
      "needs_background": "light"
     },
     "output_type": "display_data"
    }
   ],
   "source": [
    "plt.figure(figsize=(9,9))\n",
    "sns.heatmap(cm , annot=True , fmt=\".3f\" , linewidths=.5 , square = True , cmap = \"Blues_r\");\n",
    "plt.ylabel(\"Actual label\");\n",
    "plt.xlabel(\"Predicted label\");\n",
    "all_sample_title = \"Accuracy Score : {0}\".format(score)\n",
    "plt.title(all_sample_title , size = 15);"
   ]
  }
 ],
 "metadata": {
  "kernelspec": {
   "display_name": "Python 3",
   "language": "python",
   "name": "python3"
  },
  "language_info": {
   "codemirror_mode": {
    "name": "ipython",
    "version": 3
   },
   "file_extension": ".py",
   "mimetype": "text/x-python",
   "name": "python",
   "nbconvert_exporter": "python",
   "pygments_lexer": "ipython3",
   "version": "3.8.3"
  }
 },
 "nbformat": 4,
 "nbformat_minor": 4
}
