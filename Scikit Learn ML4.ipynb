{
 "cells": [
  {
   "cell_type": "markdown",
   "metadata": {},
   "source": [
    "<h2 align=\"center\">Predict Employee Churn with Decision Trees and Random Forests</h2>"
   ]
  },
  {
   "cell_type": "markdown",
   "metadata": {},
   "source": [
    "### Project Structure\n",
    "\n",
    "The hands on project on Predict Employee Churn with Decision Trees and Random Forests is divided into the following tasks:\n",
    "\n",
    "#### Task 1: Introduction and Import Libraries\n",
    "\n",
    "- Introduction to the data set and the problem overview.\n",
    "- See a demo of the final product you will build by the end of this project.\n",
    "- Import essential modules and helper functions from NumPy, Matplotlib, and scikit-learn.\n",
    "\n",
    "#### Task 2: Exploratory Data Analysis\n",
    "\n",
    "- Load the employee dataset using pandas\n",
    "- Explore the data visually by graphing various features against the target with Matplotlib.\n",
    "\n",
    "#### Task 3: Encode Categorical Features\n",
    "\n",
    "- The dataset contains two categorical variables: Department and Salary.\n",
    "- Create dummy encoded variables for both categorical variables.\n",
    "\n",
    "#### Task 4: Visualize Class Imbalance\n",
    "\n",
    "- Use Yellowbrick's Class Balance visualizer to create a frequency plot of both classes.\n",
    "- The presence or absence of a class balance problem will inform your sampling strategory while creating training and validation sets.\n",
    "\n",
    "#### Task 5: Create Training and Validation Sets\n",
    "\n",
    "- Split the data into a 80/20 training/validation split.\n",
    "- Use a stratified sampling strategy\n",
    "\n",
    "#### Tasks 6 & 7: Build a Decision Tree Classifier with Interactive Controls\n",
    "\n",
    "- Use the interact function to automatically create UI controls for function arguments.\n",
    "- Build and train a decision tree classifier with scikit-learn.\n",
    "- Calculate the training and validation accuracies.\n",
    "- Display the fitted decision tree graphically.\n",
    "\n",
    "#### Task 8: Build a Random Forest Classifier with Interactive Controls\n",
    "\n",
    "- Use the interact function again to automatically create UI controls for function arguments.\n",
    "- To overcome the variance problem associated with decision trees, build and train a random forests classifier with scikit-learn.\n",
    "- Calculate the training and validation accuracies.\n",
    "- Display a fitted tree graphically.\n",
    "\n",
    "#### Task 9: Feature Importance Plots and Evaluation Metrics\n",
    "\n",
    "- Many model forms describe the underlying impact of features relative to each other.\n",
    "- Decision Tree models and Random Forest in scikit-learn, feature_importances_ attribute when fitted.\n",
    "- Utilize this attribute to rank and plot the features.\n"
   ]
  },
  {
   "cell_type": "markdown",
   "metadata": {},
   "source": [
    " "
   ]
  },
  {
   "cell_type": "markdown",
   "metadata": {},
   "source": [
    "### Task 1: Import Libraries\n",
    "---"
   ]
  },
  {
   "cell_type": "code",
   "execution_count": 39,
   "metadata": {},
   "outputs": [],
   "source": [
    "from __future__ import print_function\n",
    "%matplotlib inline\n",
    "import os\n",
    "import warnings\n",
    "import numpy as np\n",
    "import matplotlib.pyplot as plt\n",
    "import matplotlib.image as image\n",
    "import pandas as pd\n",
    "import pandas_profiling\n",
    "plt.style.use(\"ggplot\")\n",
    "warnings.simplefilter(\"ignore\")"
   ]
  },
  {
   "cell_type": "code",
   "execution_count": 40,
   "metadata": {},
   "outputs": [],
   "source": [
    "plt.rcParams['figure.figsize'] = (12,8)\n",
    "\n",
    "hr = pd.read_csv(\"https://raw.githubusercontent.com/daniel-dc-cd/data_science/master/daily_materials/tree_forest/data/employee_data.csv\")"
   ]
  },
  {
   "cell_type": "markdown",
   "metadata": {},
   "source": [
    " "
   ]
  },
  {
   "cell_type": "markdown",
   "metadata": {},
   "source": [
    "### Task 2: Exploratory Data Analysis\n",
    "---"
   ]
  },
  {
   "cell_type": "code",
   "execution_count": 41,
   "metadata": {},
   "outputs": [
    {
     "data": {
      "image/png": "[encoded data removed]",
      "text/plain": [
       "<Figure size 864x576 with 1 Axes>"
      ]
     },
     "metadata": {},
     "output_type": "display_data"
    }
   ],
   "source": [
    "pd.crosstab(hr.salary , hr.quit).plot(kind=\"bar\")\n",
    "\n",
    "pd.title = (\"Freq of Turnover based Salary\")\n",
    "\n",
    "pd.xlabel = (\"Salary\")\n",
    "\n",
    "pd.ylable = (\"Freq of Turnover\")\n",
    "\n",
    "plt.show()"
   ]
  },
  {
   "cell_type": "code",
   "execution_count": 42,
   "metadata": {},
   "outputs": [
    {
     "data": {
      "image/png": "[encoded data removed]",
      "text/plain": [
       "<Figure size 864x576 with 1 Axes>"
      ]
     },
     "metadata": {},
     "output_type": "display_data"
    }
   ],
   "source": [
    "pd.crosstab(hr.department , hr.quit).plot(kind=\"bar\")\n",
    "\n",
    "pd.title = (\"Freq of Turnover based Salary\")\n",
    "\n",
    "pd.xlabel = (\"Dep\")\n",
    "\n",
    "pd.ylable = (\"Freq of Turnover\")\n",
    "\n",
    "plt.show()"
   ]
  },
  {
   "cell_type": "code",
   "execution_count": null,
   "metadata": {},
   "outputs": [],
   "source": []
  },
  {
   "cell_type": "markdown",
   "metadata": {},
   "source": [
    " "
   ]
  },
  {
   "cell_type": "markdown",
   "metadata": {},
   "source": [
    "### Task 3: Encode Categorical Features\n",
    "---"
   ]
  },
  {
   "cell_type": "code",
   "execution_count": 43,
   "metadata": {},
   "outputs": [],
   "source": [
    "cat_vars = [\"department\" , \"salary\"]\n",
    "\n",
    "for var in cat_vars:\n",
    "    cat_list = pd.get_dummies(hr[var] , prefix=var)\n",
    "    hr=hr.join(cat_list)"
   ]
  },
  {
   "cell_type": "code",
   "execution_count": 44,
   "metadata": {},
   "outputs": [
    {
     "data": {
      "text/plain": [
       "['department', 'salary']"
      ]
     },
     "execution_count": 44,
     "metadata": {},
     "output_type": "execute_result"
    }
   ],
   "source": [
    "cat_vars"
   ]
  },
  {
   "cell_type": "code",
   "execution_count": 45,
   "metadata": {},
   "outputs": [
    {
     "data": {
      "text/html": [
       "<div>\n",
       "<style scoped>\n",
       "    .dataframe tbody tr th:only-of-type {\n",
       "        vertical-align: middle;\n",
       "    }\n",
       "\n",
       "    .dataframe tbody tr th {\n",
       "        vertical-align: top;\n",
       "    }\n",
       "\n",
       "    .dataframe thead th {\n",
       "        text-align: right;\n",
       "    }\n",
       "</style>\n",
       "<table border=\"1\" class=\"dataframe\">\n",
       "  <thead>\n",
       "    <tr style=\"text-align: right;\">\n",
       "      <th></th>\n",
       "      <th>satisfaction_level</th>\n",
       "      <th>last_evaluation</th>\n",
       "      <th>number_project</th>\n",
       "      <th>average_montly_hours</th>\n",
       "      <th>time_spend_company</th>\n",
       "      <th>Work_accident</th>\n",
       "      <th>quit</th>\n",
       "      <th>promotion_last_5years</th>\n",
       "      <th>department</th>\n",
       "      <th>salary</th>\n",
       "      <th>...</th>\n",
       "      <th>department_hr</th>\n",
       "      <th>department_management</th>\n",
       "      <th>department_marketing</th>\n",
       "      <th>department_product_mng</th>\n",
       "      <th>department_sales</th>\n",
       "      <th>department_support</th>\n",
       "      <th>department_technical</th>\n",
       "      <th>salary_high</th>\n",
       "      <th>salary_low</th>\n",
       "      <th>salary_medium</th>\n",
       "    </tr>\n",
       "  </thead>\n",
       "  <tbody>\n",
       "    <tr>\n",
       "      <th>0</th>\n",
       "      <td>0.38</td>\n",
       "      <td>0.53</td>\n",
       "      <td>2</td>\n",
       "      <td>157</td>\n",
       "      <td>3</td>\n",
       "      <td>0</td>\n",
       "      <td>1</td>\n",
       "      <td>0</td>\n",
       "      <td>sales</td>\n",
       "      <td>low</td>\n",
       "      <td>...</td>\n",
       "      <td>0</td>\n",
       "      <td>0</td>\n",
       "      <td>0</td>\n",
       "      <td>0</td>\n",
       "      <td>1</td>\n",
       "      <td>0</td>\n",
       "      <td>0</td>\n",
       "      <td>0</td>\n",
       "      <td>1</td>\n",
       "      <td>0</td>\n",
       "    </tr>\n",
       "    <tr>\n",
       "      <th>1</th>\n",
       "      <td>0.80</td>\n",
       "      <td>0.86</td>\n",
       "      <td>5</td>\n",
       "      <td>262</td>\n",
       "      <td>6</td>\n",
       "      <td>0</td>\n",
       "      <td>1</td>\n",
       "      <td>0</td>\n",
       "      <td>sales</td>\n",
       "      <td>medium</td>\n",
       "      <td>...</td>\n",
       "      <td>0</td>\n",
       "      <td>0</td>\n",
       "      <td>0</td>\n",
       "      <td>0</td>\n",
       "      <td>1</td>\n",
       "      <td>0</td>\n",
       "      <td>0</td>\n",
       "      <td>0</td>\n",
       "      <td>0</td>\n",
       "      <td>1</td>\n",
       "    </tr>\n",
       "    <tr>\n",
       "      <th>2</th>\n",
       "      <td>0.11</td>\n",
       "      <td>0.88</td>\n",
       "      <td>7</td>\n",
       "      <td>272</td>\n",
       "      <td>4</td>\n",
       "      <td>0</td>\n",
       "      <td>1</td>\n",
       "      <td>0</td>\n",
       "      <td>sales</td>\n",
       "      <td>medium</td>\n",
       "      <td>...</td>\n",
       "      <td>0</td>\n",
       "      <td>0</td>\n",
       "      <td>0</td>\n",
       "      <td>0</td>\n",
       "      <td>1</td>\n",
       "      <td>0</td>\n",
       "      <td>0</td>\n",
       "      <td>0</td>\n",
       "      <td>0</td>\n",
       "      <td>1</td>\n",
       "    </tr>\n",
       "    <tr>\n",
       "      <th>3</th>\n",
       "      <td>0.72</td>\n",
       "      <td>0.87</td>\n",
       "      <td>5</td>\n",
       "      <td>223</td>\n",
       "      <td>5</td>\n",
       "      <td>0</td>\n",
       "      <td>1</td>\n",
       "      <td>0</td>\n",
       "      <td>sales</td>\n",
       "      <td>low</td>\n",
       "      <td>...</td>\n",
       "      <td>0</td>\n",
       "      <td>0</td>\n",
       "      <td>0</td>\n",
       "      <td>0</td>\n",
       "      <td>1</td>\n",
       "      <td>0</td>\n",
       "      <td>0</td>\n",
       "      <td>0</td>\n",
       "      <td>1</td>\n",
       "      <td>0</td>\n",
       "    </tr>\n",
       "    <tr>\n",
       "      <th>4</th>\n",
       "      <td>0.37</td>\n",
       "      <td>0.52</td>\n",
       "      <td>2</td>\n",
       "      <td>159</td>\n",
       "      <td>3</td>\n",
       "      <td>0</td>\n",
       "      <td>1</td>\n",
       "      <td>0</td>\n",
       "      <td>sales</td>\n",
       "      <td>low</td>\n",
       "      <td>...</td>\n",
       "      <td>0</td>\n",
       "      <td>0</td>\n",
       "      <td>0</td>\n",
       "      <td>0</td>\n",
       "      <td>1</td>\n",
       "      <td>0</td>\n",
       "      <td>0</td>\n",
       "      <td>0</td>\n",
       "      <td>1</td>\n",
       "      <td>0</td>\n",
       "    </tr>\n",
       "  </tbody>\n",
       "</table>\n",
       "<p>5 rows × 23 columns</p>\n",
       "</div>"
      ],
      "text/plain": [
       "   satisfaction_level  last_evaluation  number_project  average_montly_hours  \\\n",
       "0                0.38             0.53               2                   157   \n",
       "1                0.80             0.86               5                   262   \n",
       "2                0.11             0.88               7                   272   \n",
       "3                0.72             0.87               5                   223   \n",
       "4                0.37             0.52               2                   159   \n",
       "\n",
       "   time_spend_company  Work_accident  quit  promotion_last_5years department  \\\n",
       "0                   3              0     1                      0      sales   \n",
       "1                   6              0     1                      0      sales   \n",
       "2                   4              0     1                      0      sales   \n",
       "3                   5              0     1                      0      sales   \n",
       "4                   3              0     1                      0      sales   \n",
       "\n",
       "   salary  ...  department_hr  department_management  department_marketing  \\\n",
       "0     low  ...              0                      0                     0   \n",
       "1  medium  ...              0                      0                     0   \n",
       "2  medium  ...              0                      0                     0   \n",
       "3     low  ...              0                      0                     0   \n",
       "4     low  ...              0                      0                     0   \n",
       "\n",
       "   department_product_mng  department_sales  department_support  \\\n",
       "0                       0                 1                   0   \n",
       "1                       0                 1                   0   \n",
       "2                       0                 1                   0   \n",
       "3                       0                 1                   0   \n",
       "4                       0                 1                   0   \n",
       "\n",
       "   department_technical  salary_high  salary_low  salary_medium  \n",
       "0                     0            0           1              0  \n",
       "1                     0            0           0              1  \n",
       "2                     0            0           0              1  \n",
       "3                     0            0           1              0  \n",
       "4                     0            0           1              0  \n",
       "\n",
       "[5 rows x 23 columns]"
      ]
     },
     "execution_count": 45,
     "metadata": {},
     "output_type": "execute_result"
    }
   ],
   "source": [
    "hr.head()"
   ]
  },
  {
   "cell_type": "code",
   "execution_count": 46,
   "metadata": {},
   "outputs": [
    {
     "data": {
      "text/html": [
       "<div>\n",
       "<style scoped>\n",
       "    .dataframe tbody tr th:only-of-type {\n",
       "        vertical-align: middle;\n",
       "    }\n",
       "\n",
       "    .dataframe tbody tr th {\n",
       "        vertical-align: top;\n",
       "    }\n",
       "\n",
       "    .dataframe thead th {\n",
       "        text-align: right;\n",
       "    }\n",
       "</style>\n",
       "<table border=\"1\" class=\"dataframe\">\n",
       "  <thead>\n",
       "    <tr style=\"text-align: right;\">\n",
       "      <th></th>\n",
       "      <th>satisfaction_level</th>\n",
       "      <th>last_evaluation</th>\n",
       "      <th>number_project</th>\n",
       "      <th>average_montly_hours</th>\n",
       "      <th>time_spend_company</th>\n",
       "      <th>Work_accident</th>\n",
       "      <th>quit</th>\n",
       "      <th>promotion_last_5years</th>\n",
       "      <th>department_IT</th>\n",
       "      <th>department_RandD</th>\n",
       "      <th>...</th>\n",
       "      <th>department_hr</th>\n",
       "      <th>department_management</th>\n",
       "      <th>department_marketing</th>\n",
       "      <th>department_product_mng</th>\n",
       "      <th>department_sales</th>\n",
       "      <th>department_support</th>\n",
       "      <th>department_technical</th>\n",
       "      <th>salary_high</th>\n",
       "      <th>salary_low</th>\n",
       "      <th>salary_medium</th>\n",
       "    </tr>\n",
       "  </thead>\n",
       "  <tbody>\n",
       "    <tr>\n",
       "      <th>0</th>\n",
       "      <td>0.38</td>\n",
       "      <td>0.53</td>\n",
       "      <td>2</td>\n",
       "      <td>157</td>\n",
       "      <td>3</td>\n",
       "      <td>0</td>\n",
       "      <td>1</td>\n",
       "      <td>0</td>\n",
       "      <td>0</td>\n",
       "      <td>0</td>\n",
       "      <td>...</td>\n",
       "      <td>0</td>\n",
       "      <td>0</td>\n",
       "      <td>0</td>\n",
       "      <td>0</td>\n",
       "      <td>1</td>\n",
       "      <td>0</td>\n",
       "      <td>0</td>\n",
       "      <td>0</td>\n",
       "      <td>1</td>\n",
       "      <td>0</td>\n",
       "    </tr>\n",
       "    <tr>\n",
       "      <th>1</th>\n",
       "      <td>0.80</td>\n",
       "      <td>0.86</td>\n",
       "      <td>5</td>\n",
       "      <td>262</td>\n",
       "      <td>6</td>\n",
       "      <td>0</td>\n",
       "      <td>1</td>\n",
       "      <td>0</td>\n",
       "      <td>0</td>\n",
       "      <td>0</td>\n",
       "      <td>...</td>\n",
       "      <td>0</td>\n",
       "      <td>0</td>\n",
       "      <td>0</td>\n",
       "      <td>0</td>\n",
       "      <td>1</td>\n",
       "      <td>0</td>\n",
       "      <td>0</td>\n",
       "      <td>0</td>\n",
       "      <td>0</td>\n",
       "      <td>1</td>\n",
       "    </tr>\n",
       "    <tr>\n",
       "      <th>2</th>\n",
       "      <td>0.11</td>\n",
       "      <td>0.88</td>\n",
       "      <td>7</td>\n",
       "      <td>272</td>\n",
       "      <td>4</td>\n",
       "      <td>0</td>\n",
       "      <td>1</td>\n",
       "      <td>0</td>\n",
       "      <td>0</td>\n",
       "      <td>0</td>\n",
       "      <td>...</td>\n",
       "      <td>0</td>\n",
       "      <td>0</td>\n",
       "      <td>0</td>\n",
       "      <td>0</td>\n",
       "      <td>1</td>\n",
       "      <td>0</td>\n",
       "      <td>0</td>\n",
       "      <td>0</td>\n",
       "      <td>0</td>\n",
       "      <td>1</td>\n",
       "    </tr>\n",
       "    <tr>\n",
       "      <th>3</th>\n",
       "      <td>0.72</td>\n",
       "      <td>0.87</td>\n",
       "      <td>5</td>\n",
       "      <td>223</td>\n",
       "      <td>5</td>\n",
       "      <td>0</td>\n",
       "      <td>1</td>\n",
       "      <td>0</td>\n",
       "      <td>0</td>\n",
       "      <td>0</td>\n",
       "      <td>...</td>\n",
       "      <td>0</td>\n",
       "      <td>0</td>\n",
       "      <td>0</td>\n",
       "      <td>0</td>\n",
       "      <td>1</td>\n",
       "      <td>0</td>\n",
       "      <td>0</td>\n",
       "      <td>0</td>\n",
       "      <td>1</td>\n",
       "      <td>0</td>\n",
       "    </tr>\n",
       "    <tr>\n",
       "      <th>4</th>\n",
       "      <td>0.37</td>\n",
       "      <td>0.52</td>\n",
       "      <td>2</td>\n",
       "      <td>159</td>\n",
       "      <td>3</td>\n",
       "      <td>0</td>\n",
       "      <td>1</td>\n",
       "      <td>0</td>\n",
       "      <td>0</td>\n",
       "      <td>0</td>\n",
       "      <td>...</td>\n",
       "      <td>0</td>\n",
       "      <td>0</td>\n",
       "      <td>0</td>\n",
       "      <td>0</td>\n",
       "      <td>1</td>\n",
       "      <td>0</td>\n",
       "      <td>0</td>\n",
       "      <td>0</td>\n",
       "      <td>1</td>\n",
       "      <td>0</td>\n",
       "    </tr>\n",
       "  </tbody>\n",
       "</table>\n",
       "<p>5 rows × 21 columns</p>\n",
       "</div>"
      ],
      "text/plain": [
       "   satisfaction_level  last_evaluation  number_project  average_montly_hours  \\\n",
       "0                0.38             0.53               2                   157   \n",
       "1                0.80             0.86               5                   262   \n",
       "2                0.11             0.88               7                   272   \n",
       "3                0.72             0.87               5                   223   \n",
       "4                0.37             0.52               2                   159   \n",
       "\n",
       "   time_spend_company  Work_accident  quit  promotion_last_5years  \\\n",
       "0                   3              0     1                      0   \n",
       "1                   6              0     1                      0   \n",
       "2                   4              0     1                      0   \n",
       "3                   5              0     1                      0   \n",
       "4                   3              0     1                      0   \n",
       "\n",
       "   department_IT  department_RandD  ...  department_hr  department_management  \\\n",
       "0              0                 0  ...              0                      0   \n",
       "1              0                 0  ...              0                      0   \n",
       "2              0                 0  ...              0                      0   \n",
       "3              0                 0  ...              0                      0   \n",
       "4              0                 0  ...              0                      0   \n",
       "\n",
       "   department_marketing  department_product_mng  department_sales  \\\n",
       "0                     0                       0                 1   \n",
       "1                     0                       0                 1   \n",
       "2                     0                       0                 1   \n",
       "3                     0                       0                 1   \n",
       "4                     0                       0                 1   \n",
       "\n",
       "   department_support  department_technical  salary_high  salary_low  \\\n",
       "0                   0                     0            0           1   \n",
       "1                   0                     0            0           0   \n",
       "2                   0                     0            0           0   \n",
       "3                   0                     0            0           1   \n",
       "4                   0                     0            0           1   \n",
       "\n",
       "   salary_medium  \n",
       "0              0  \n",
       "1              1  \n",
       "2              1  \n",
       "3              0  \n",
       "4              0  \n",
       "\n",
       "[5 rows x 21 columns]"
      ]
     },
     "execution_count": 46,
     "metadata": {},
     "output_type": "execute_result"
    }
   ],
   "source": [
    "hr.drop(columns=[\"department\" , \"salary\"], axis=1 , inplace=True)\n",
    "hr.head()"
   ]
  },
  {
   "cell_type": "code",
   "execution_count": null,
   "metadata": {},
   "outputs": [],
   "source": []
  },
  {
   "cell_type": "markdown",
   "metadata": {},
   "source": [
    " "
   ]
  },
  {
   "cell_type": "markdown",
   "metadata": {},
   "source": [
    "### Task 4: Visualize Class Imbalance\n",
    "---"
   ]
  },
  {
   "cell_type": "code",
   "execution_count": 47,
   "metadata": {},
   "outputs": [],
   "source": [
    "from yellowbrick.target import ClassBalance\n",
    "plt.style.use(\"ggplot\")\n",
    "plt.rcParams[\"figure.figsize\"] = (12,9)"
   ]
  },
  {
   "cell_type": "code",
   "execution_count": 48,
   "metadata": {},
   "outputs": [
    {
     "data": {
      "image/png": "[encoded data removed]",
      "text/plain": [
       "<Figure size 864x648 with 1 Axes>"
      ]
     },
     "metadata": {},
     "output_type": "display_data"
    },
    {
     "data": {
      "text/plain": [
       "<matplotlib.axes._subplots.AxesSubplot at 0x7fa1456ca550>"
      ]
     },
     "execution_count": 48,
     "metadata": {},
     "output_type": "execute_result"
    }
   ],
   "source": [
    "visualizer = ClassBalance(labels=['stayed','quit']).fit(hr.quit)\n",
    "visualizer.show()"
   ]
  },
  {
   "cell_type": "markdown",
   "metadata": {},
   "source": [
    "### Task 5: Create Training and Test Sets\n",
    "---"
   ]
  },
  {
   "cell_type": "code",
   "execution_count": 49,
   "metadata": {},
   "outputs": [],
   "source": [
    "X = hr.loc[: , hr.columns != \"quit\"]\n",
    "y = hr.quit"
   ]
  },
  {
   "cell_type": "code",
   "execution_count": 50,
   "metadata": {},
   "outputs": [],
   "source": [
    "from sklearn.model_selection import train_test_split\n",
    "X_train , X_test , y_train , y_test = train_test_split(X , y , random_state = 0 , test_size = 0.2)"
   ]
  },
  {
   "cell_type": "markdown",
   "metadata": {},
   "source": [
    " "
   ]
  },
  {
   "cell_type": "markdown",
   "metadata": {},
   "source": [
    "### Task 6 & 7: Build an Interactive Decision Tree Classifier\n",
    "---"
   ]
  },
  {
   "cell_type": "markdown",
   "metadata": {},
   "source": [
    "Supervised learning: \n",
    "- The inputs are random variables $X = X_1, ..., X_p$;\n",
    "- The output is a random variable $Y.$"
   ]
  },
  {
   "cell_type": "markdown",
   "metadata": {},
   "source": [
    "- Data is a finite set $$\\mathbb{L}=\\{(x_i,y_i)|i=0, ..., N-1\\}$$\n",
    "where $x_i \\in X = X_1 \\times ... \\times X_p$ and $y_i \\in y$ are randomly drawn from $P_{X,Y}.$\n",
    "\n",
    "E.g., $(x_i,y_i)=((\\text{salary = low, department = sales, ...}),\\text{quit = 1})$\n",
    "\n",
    "- The goal is to find a model $\\varphi_\\mathbb{L}: X \\mapsto y$ minimizing $$\\text{Err}(\\varphi_\\mathbb{L}) = \\mathbb{E}_{X,Y}\\{L(Y, \\varphi_\\mathbb{L}(X))\\}.$$"
   ]
  },
  {
   "cell_type": "markdown",
   "metadata": {},
   "source": [
    "About:\n",
    " \n",
    " - Decision trees are non-parametric models which can model arbitrarily complex relations between inputs and outputs, without any a priori assumption\n",
    " \n",
    "- Decision trees handle numeric and categorical variables\n",
    "\n",
    "- They implement feature selection, making them robust to noisy features (to an extent)\n",
    "\n",
    "- Robust to outliers or errors in labels\n",
    "\n",
    "- Easily interpretable by even non-ML practioners."
   ]
  },
  {
   "cell_type": "markdown",
   "metadata": {},
   "source": [
    "#### Decision trees: partitioning the feature space:"
   ]
  },
  {
   "cell_type": "markdown",
   "metadata": {},
   "source": [
    "![partition](assets/partition-feature-space.png)\n",
    "\n",
    "- Decision trees generally have low bias but have high variance.\n",
    "- We will solve the high variance problem in Task 8."
   ]
  },
  {
   "cell_type": "code",
   "execution_count": null,
   "metadata": {},
   "outputs": [],
   "source": [
    "from sklearn import tree\n",
    "from sklearn.tree import DecisionTreeClassifier\n",
    "from sklearn.ensemble import RandomForestClassifier\n",
    "from sklearn.metrics import accuracy_score\n",
    "from sklearn.tree import export_graphviz # display the tree within a Jupyter notebook\n",
    "from IPython.display import SVG\n",
    "from graphviz import Source\n",
    "from IPython.display import display\n",
    "from ipywidgets import interactive, IntSlider, FloatSlider, interact\n",
    "import ipywidgets\n",
    "from IPython.display import Image\n",
    "from subprocess import call\n",
    "import matplotlib.image as mpimg"
   ]
  },
  {
   "cell_type": "code",
   "execution_count": null,
   "metadata": {},
   "outputs": [],
   "source": [
    "@interact\n",
    "def plot_tree(crit=['gini','entropy'],\n",
    "              split=['best','random'],\n",
    "              depth=IntSlider(min=1,max=30,value=2, continuous_update=False),\n",
    "              min_split=IntSlider(min=1,max=5,value=2, continuous_update=False),\n",
    "              min_leaf=IntSlider(min=1,max=5,value=1, continuous_update=False)):\n",
    "    estimator = DecisionTreeClassifier(random_state=0,\n",
    "                                      criterion=crit,\n",
    "                                      splitter=split,\n",
    "                                      max_depth=depth,\n",
    "                                      min_samples_split=min_split,\n",
    "                                      min_samples_leaf=min_leaf)\n",
    "    estimator.fit(X_train, y_train)\n",
    "    print('Decision Tree Training Acc:{:.3f}'.format(accuracy_score(y_train, estimator.predict(X_train))))\n",
    "    print('Decision Tree Test Acc:{:.3f}'.format(accuracy_score(y_test, estimator.predict(X_test))))\n",
    "    \n",
    "    \n",
    "    graph = Source(tree.export_graphviz(estimator,out_file=None,\n",
    "                                       feature_names=X_train.columns,\n",
    "                                       class_names=['stayed', 'quit'],\n",
    "                                       filled=True))\n",
    "    \n",
    "    display(Image(data=graph.pipe(format='png')))\n",
    "    \n",
    "    #do later\n",
    "    return estimator"
   ]
  },
  {
   "cell_type": "markdown",
   "metadata": {},
   "source": [
    "### Task 8: Build an Interactive Random Forest Classifier\n",
    "---"
   ]
  },
  {
   "cell_type": "markdown",
   "metadata": {},
   "source": [
    "Although randomization increases bias, it is possible to get a reduction in variance of the ensemble. Random forests are one of the most robust machine learning algorithms for a variety of problems.\n",
    "\n",
    "- Randomization and averaging lead to a reduction in variance and improve accuracy\n",
    "- The implementations are parallelizable\n",
    "- Memory consumption and training time can be reduced by bootstrapping\n",
    "- Sampling features and not solely sampling examples is crucial to improving accuracy"
   ]
  },
  {
   "cell_type": "code",
   "execution_count": null,
   "metadata": {},
   "outputs": [],
   "source": [
    "@interact\n",
    "def plot_tree_rf(crit=['gini','entropy'],\n",
    "                 bootstrap=['True','False'],\n",
    "                 depth=IntSlider(min=1,max=7,value=2, continuous_update=False),\n",
    "                 forests=IntSlider(min=1,max=200,value=100,continuous_update=False),\n",
    "                 min_split=IntSlider(min=2,max=5,value=2, continuous_update=False),\n",
    "                 min_leaf=IntSlider(min=1,max=5,value=1, continuous_update=False)):\n",
    "    estimator = RandomForestClassifier(random_state=0,\n",
    "                                       criterion=crit,\n",
    "                                       bootstrap=bootstrap,\n",
    "                                       max_depth=depth,\n",
    "                                       min_samples_split=min_split,\n",
    "                                       min_samples_leaf=min_leaf,\n",
    "                                       n_jobs=1,\n",
    "                                       verbose=False).fit(X_train, y_train)\n",
    "    \n",
    "    estimator.fit(X_train, y_train)\n",
    "\n",
    "    print('Random Forest Training Acc:{:.3f}'.format(accuracy_score(y_train, estimator.predict(X_train))))\n",
    "    print('Random Forest Test Acc:{:.3f}'.format(accuracy_score(y_test, estimator.predict(X_test))))\n",
    "    num_tree=estimator.estimators_[1]\n",
    "    print('Visualizing Tree:', 0)\n",
    "    \n",
    "    graph = Source(tree.export_graphviz(num_tree,\n",
    "                                        out_file=None,\n",
    "                                        feature_names=X_train.columns,\n",
    "                                        class_names=['stayed', 'quit'],\n",
    "                                        filled=True))\n",
    "    \n",
    "    display(Image(data=graph.pipe(format='png')))\n",
    "    \n",
    "        #do later\n",
    "    return estimator"
   ]
  },
  {
   "cell_type": "markdown",
   "metadata": {},
   "source": [
    " "
   ]
  },
  {
   "cell_type": "markdown",
   "metadata": {},
   "source": [
    "### Task 9: Feature Importance and Evaluation Metrics\n",
    "---"
   ]
  },
  {
   "cell_type": "code",
   "execution_count": null,
   "metadata": {},
   "outputs": [],
   "source": [
    "from yellowbrick.model_selection import FeatureImportances\n",
    "plt.rcParams['figure.figsize'] = (12,8)\n",
    "plt.style.use(\"ggplot\")"
   ]
  },
  {
   "cell_type": "code",
   "execution_count": null,
   "metadata": {},
   "outputs": [],
   "source": [
    "rf = RandomForestClassifier(bootstrap='True', \n",
    "                            max_depth=2, \n",
    "                            n_jobs=1, \n",
    "                            random_state=0,\n",
    "                            verbose=False)\n",
    "viz = FeatureImportances(rf)\n",
    "viz.fit(X_train, y_train)\n",
    "viz.show();"
   ]
  },
  {
   "cell_type": "code",
   "execution_count": null,
   "metadata": {},
   "outputs": [],
   "source": [
    "dt = DecisionTreeClassifier(max_depth=5, random_state=0)\n",
    "viz = FeatureImportances(dt)\n",
    "viz.fit(X_train, y_train)\n",
    "viz.show()"
   ]
  },
  {
   "cell_type": "markdown",
   "metadata": {},
   "source": [
    " "
   ]
  }
 ],
 "metadata": {
  "kernelspec": {
   "display_name": "Python 3",
   "language": "python",
   "name": "python3"
  },
  "language_info": {
   "codemirror_mode": {
    "name": "ipython",
    "version": 3
   },
   "file_extension": ".py",
   "mimetype": "text/x-python",
   "name": "python",
   "nbconvert_exporter": "python",
   "pygments_lexer": "ipython3",
   "version": "3.8.3"
  }
 },
 "nbformat": 4,
 "nbformat_minor": 2
}
