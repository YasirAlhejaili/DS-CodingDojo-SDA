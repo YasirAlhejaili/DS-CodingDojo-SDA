{
 "cells": [
  {
   "cell_type": "code",
   "execution_count": 1,
   "metadata": {},
   "outputs": [],
   "source": [
    "import pandas as pd\n",
    "import numpy as np\n",
    "import matplotlib.pyplot as plt\n",
    "import seaborn as sns\n",
    "%matplotlib inline\n",
    "import time\n",
    "import datetime\n",
    "\n",
    "df = pd.read_csv(\"https://raw.githubusercontent.com/daniel-dc-cd/data_science/master/module_4_ML/data/seattle_weather_1948-2017.csv\")\n",
    "\n",
    "numrows = 25549"
   ]
  },
  {
   "cell_type": "code",
   "execution_count": 2,
   "metadata": {},
   "outputs": [],
   "source": [
    "heuristic_df = pd.DataFrame({'yesterday':[0.0]*numrows,\n",
    "                             'today':[0.0]*numrows,\n",
    "                             'tomorrow':[0.0]*numrows,\n",
    "                             'guess':[False]*numrows, #logical guess\n",
    "                             'rain_tomorrow':[False]*numrows, #historical observation\n",
    "                             'correct':[False]*numrows, #TRUE if your guess matches the historical observation\n",
    "                             'true_positive':[False]*numrows, #TRUE If you said it would rain and it did\n",
    "                             'false_positive':[False]*numrows,#TRUE If you sait id would rain and it didn't\n",
    "                             'true_negative':[False]*numrows, #TRUE if you said it wouldn't rain and it didn't\n",
    "                             'false_negative':[False]*numrows}) #TRUE if you said it wouldn't raing and it did\n",
    "\n",
    "#sort columns for convience\n",
    "seq = ['yesterday',\n",
    "       'today',\n",
    "       'tomorrow',\n",
    "       'guess',\n",
    "       'rain_tomorrow',\n",
    "       'correct',\n",
    "       'true_positive',\n",
    "       'false_positive',\n",
    "       'true_negative',\n",
    "       'false_negative']\n",
    "heuristic_df = heuristic_df.reindex(columns=seq)"
   ]
  },
  {
   "cell_type": "code",
   "execution_count": 3,
   "metadata": {},
   "outputs": [],
   "source": [
    "for z in range(numrows):\n",
    "    #start at time 2 in the data frame\n",
    "    i = z + 2\n",
    "    #pull values from the dataframe\n",
    "    yesterday = df.iloc[(i-2),1]\n",
    "    today = df.iloc[(i-1),1]\n",
    "    tomorrow = df.iloc[i,1]\n",
    "    rain_tomorrow = df.iloc[(i),1]\n",
    "    \n",
    "    heuristic_df.iat[z,0] = yesterday\n",
    "    heuristic_df.iat[z,1] = today\n",
    "    heuristic_df.iat[z,2] = tomorrow\n",
    "    heuristic_df.iat[z,3] = False # set guess default to False\n",
    "    heuristic_df.iat[z,4] = rain_tomorrow\n",
    "    \n",
    "    #example hueristic\n",
    "    if today > 0.0 and yesterday > 0.0:\n",
    "        heuristic_df.iat[z,3] = True\n",
    "        \n",
    "    if heuristic_df.iat[z,3] == heuristic_df.iat[z,4]:\n",
    "        heuristic_df.iat[z,5] = True\n",
    "        if heuristic_df.iat[z,3] == True:\n",
    "            heuristic_df.iat[z,6] = True #true positive\n",
    "        else:\n",
    "            heuristic_df.iat[z,8] = True #true negative\n",
    "    else:\n",
    "        heuristic_df.iat[z,5] = False\n",
    "        if heuristic_df.iat[z,3] == True:\n",
    "            heuristic_df.iat[z,7] = True #false positive\n",
    "        else:\n",
    "            heuristic_df.iat[z,9] = True #false negative"
   ]
  },
  {
   "cell_type": "code",
   "execution_count": 73,
   "metadata": {},
   "outputs": [],
   "source": [
    "# split data into training and testing\n",
    "\n",
    "from sklearn.model_selection import train_test_split\n",
    "\n",
    "X=heuristic_df\n",
    "y=heuristic_df\n",
    "y=y.astype('str')\n",
    "\n",
    "X_train, X_test, y_train, y_test = train_test_split(X , y, test_size=0.2)"
   ]
  },
  {
   "cell_type": "code",
   "execution_count": 78,
   "metadata": {},
   "outputs": [
    {
     "name": "stdout",
     "output_type": "stream",
     "text": [
      "Training Precision: 0.6759113901971044\n",
      "Testing Precision: 0.6671177266576455\n"
     ]
    }
   ],
   "source": [
    "# Calculate Precision for training and test sets\n",
    "\n",
    "# for training set\n",
    "NTP_tr=X_train['true_positive'].sum()\n",
    "NFP_tr=X_train['false_positive'].sum()\n",
    "prec = NTP_tr/(NTP_tr+NFP_tr)\n",
    "print(\"Training Precision:\", prec)\n",
    "\n",
    "# for testing set\n",
    "NTP_te=X_test['true_positive'].sum()\n",
    "NFP_te=X_test['false_positive'].sum()\n",
    "prec = NTP_te/(NTP_te+NFP_te)\n",
    "print(\"Testing Precision:\", prec)"
   ]
  },
  {
   "cell_type": "code",
   "execution_count": 81,
   "metadata": {},
   "outputs": [
    {
     "name": "stdout",
     "output_type": "stream",
     "text": [
      "Training Recall: 0.4435160810346801\n",
      "Testing Recall: 0.455637707948244\n"
     ]
    }
   ],
   "source": [
    "# Calculate Recall for training and test sets\n",
    "\n",
    "# for training set\n",
    "NFN_tr=X_train['false_negative'].sum()\n",
    "rec=NTP_tr/(NTP_tr+NFN_tr)\n",
    "print(\"Training Recall:\", rec)\n",
    "\n",
    "# for testing set\n",
    "NFN_te=X_test['false_negative'].sum()\n",
    "rec=NTP_te/(NTP_te+NFN_te)\n",
    "print(\"Testing Recall:\", rec)"
   ]
  },
  {
   "cell_type": "code",
   "execution_count": 89,
   "metadata": {},
   "outputs": [
    {
     "name": "stdout",
     "output_type": "stream",
     "text": [
      "Training SSE: 6720\n",
      "Training Mean SSE: 0.32878320857184795\n",
      "Testing SSE: 1670\n",
      "Testing Mean SSE: 0.3268101761252446\n"
     ]
    }
   ],
   "source": [
    "# Calculate SSE for both training and test sets\n",
    "\n",
    "\n",
    "import numpy as np\n",
    "from sklearn.metrics import mean_squared_error\n",
    "\n",
    "def sse(y_true, y_pred):\n",
    "    '''returns sum of squared errors (actual vs model)'''\n",
    "    squared_errors = (y_true - y_pred) ** 2\n",
    "    return np.sum(squared_errors)\n",
    "\n",
    "# for training set\n",
    "SSE_tr = sse(y_true=X_train['rain_tomorrow'].astype('int'), y_pred=X_train['guess'].astype('int'))\n",
    "mean_SSE_tr = mean_squared_error(y_true=X_train['rain_tomorrow'].astype('int'), y_pred=X_train['guess'].astype('int'))\n",
    "print(\"Training SSE:\" ,SSE_tr)\n",
    "print(\"Training Mean SSE:\" ,mean_SSE_tr)\n",
    "\n",
    "# for testing set\n",
    "SSE_te = sse(y_true=X_test['rain_tomorrow'].astype('int'), y_pred=X_test['guess'].astype('int'))\n",
    "mean_SSE_te = mean_squared_error(y_true=X_test['rain_tomorrow'].astype('int'), y_pred=X_test['guess'].astype('int'))\n",
    "print(\"Testing SSE:\" ,SSE_te)\n",
    "print(\"Testing Mean SSE:\" ,mean_SSE_te)\n"
   ]
  }
 ],
 "metadata": {
  "kernelspec": {
   "display_name": "Python 3",
   "language": "python",
   "name": "python3"
  },
  "language_info": {
   "codemirror_mode": {
    "name": "ipython",
    "version": 3
   },
   "file_extension": ".py",
   "mimetype": "text/x-python",
   "name": "python",
   "nbconvert_exporter": "python",
   "pygments_lexer": "ipython3",
   "version": "3.8.3"
  }
 },
 "nbformat": 4,
 "nbformat_minor": 4
}
